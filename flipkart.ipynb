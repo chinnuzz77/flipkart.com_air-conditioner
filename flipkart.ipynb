{
  "nbformat": 4,
  "nbformat_minor": 0,
  "metadata": {
    "colab": {
      "name": "flipkart.ipynb",
      "provenance": [],
      "collapsed_sections": [],
      "authorship_tag": "ABX9TyN+kzuCvQ8yu99fSXRFdmIB",
      "include_colab_link": true
    },
    "kernelspec": {
      "name": "python3",
      "display_name": "Python 3"
    },
    "language_info": {
      "name": "python"
    }
  },
  "cells": [
    {
      "cell_type": "markdown",
      "metadata": {
        "id": "view-in-github",
        "colab_type": "text"
      },
      "source": [
        "<a href=\"https://colab.research.google.com/github/chinnuzz77/flipkart.com_air-conditioner/blob/main/flipkart.ipynb\" target=\"_parent\"><img src=\"https://colab.research.google.com/assets/colab-badge.svg\" alt=\"Open In Colab\"/></a>"
      ]
    },
    {
      "cell_type": "code",
      "metadata": {
        "id": "uM1YLpxikuNP"
      },
      "source": [
        "import requests\n",
        "from bs4 import BeautifulSoup\n",
        "import pandas as pd\n",
        "import time \n"
      ],
      "execution_count": 26,
      "outputs": []
    },
    {
      "cell_type": "code",
      "metadata": {
        "id": "FwdXxuTP7-x9",
        "colab": {
          "base_uri": "https://localhost:8080/"
        },
        "outputId": "b980e568-ee24-4ae7-af6b-822433894dd4"
      },
      "source": [
        "import time\n",
        "import requests\n",
        "from IPython.display import clear_output \n",
        "\n",
        "base_url ='https://www.flipkart.com/air-conditioners/pr?sid=j9e%2Cabm%2Cc54&p%5B%5D=facets.fulfilled_by%255B%255D%3DFlipkart%2BAssured&p%5B%5D=facets.capacity%255B%255D%3D1.5%2BTon&param=892743&wid=4.productCard.PMU_V2_4'\n",
        "req = requests.get(url) \n",
        "soup = BeautifulSoup(req.text,'html') \n",
        "print(soup.prettify())\n",
        "b = []\n",
        "p =[]\n",
        "r = []\n",
        "for i in range(1,10):\n",
        "  time.sleep(3)\n",
        "  print(f'going to scrape data from {i} page')\n",
        "  clear_output(wait=True)\n",
        "  url = base_url+str(i)+'&page='\n",
        "  req = requests.get(url)\n",
        "  soup = BeautifulSoup(req.text,'html')\n",
        "      #brand \n",
        "  brand =  soup.findAll('div',attrs={'class':'_4rR01T'}) \n",
        "  for j in brand:\n",
        "    b.append(j.text)\n",
        "    #price\n",
        "  price = soup.findAll('div',attrs={'class' : \"_30jeq3 _1_WHN1\"}) \n",
        "  for j in price:\n",
        "    p.append(j.text)\n",
        "      # Ratings \n",
        "  ratings =  soup.findAll('div',attrs={'class':\"_3LWZlK\"})\n",
        "  for j in ratings:\n",
        "    r.append(j.text)\n",
        "\n"
      ],
      "execution_count": 32,
      "outputs": [
        {
          "output_type": "stream",
          "text": [
            "going to scrape data from 9 page\n"
          ],
          "name": "stdout"
        }
      ]
    },
    {
      "cell_type": "code",
      "metadata": {
        "colab": {
          "base_uri": "https://localhost:8080/"
        },
        "id": "16n4MNOcMPbo",
        "outputId": "80a990e6-32c9-4dd0-c278-2a7d2ac34856"
      },
      "source": [
        "print(len(b))\n",
        "print(len(p))\n",
        "print(len(r))"
      ],
      "execution_count": 33,
      "outputs": [
        {
          "output_type": "stream",
          "text": [
            "216\n",
            "216\n",
            "216\n"
          ],
          "name": "stdout"
        }
      ]
    },
    {
      "cell_type": "code",
      "metadata": {
        "colab": {
          "base_uri": "https://localhost:8080/",
          "height": 408
        },
        "id": "td13LAyEbc-6",
        "outputId": "49f9123d-f5d3-4169-972b-906b83122e49"
      },
      "source": [
        "data = pd.DataFrame({'brand': b,\n",
        "                     'price': p,\n",
        "                     'ratings': r})\n",
        "data"
      ],
      "execution_count": 34,
      "outputs": [
        {
          "output_type": "execute_result",
          "data": {
            "text/html": [
              "<div>\n",
              "<style scoped>\n",
              "    .dataframe tbody tr th:only-of-type {\n",
              "        vertical-align: middle;\n",
              "    }\n",
              "\n",
              "    .dataframe tbody tr th {\n",
              "        vertical-align: top;\n",
              "    }\n",
              "\n",
              "    .dataframe thead th {\n",
              "        text-align: right;\n",
              "    }\n",
              "</style>\n",
              "<table border=\"1\" class=\"dataframe\">\n",
              "  <thead>\n",
              "    <tr style=\"text-align: right;\">\n",
              "      <th></th>\n",
              "      <th>brand</th>\n",
              "      <th>price</th>\n",
              "      <th>ratings</th>\n",
              "    </tr>\n",
              "  </thead>\n",
              "  <tbody>\n",
              "    <tr>\n",
              "      <th>0</th>\n",
              "      <td>SAMSUNG 1.5 Ton 3 Star Split Inverter AC  - Wh...</td>\n",
              "      <td>₹28,990</td>\n",
              "      <td>4.2</td>\n",
              "    </tr>\n",
              "    <tr>\n",
              "      <th>1</th>\n",
              "      <td>SAMSUNG 1.5 Ton 3 Star Split Inverter AC  - Wh...</td>\n",
              "      <td>₹28,990</td>\n",
              "      <td>4.2</td>\n",
              "    </tr>\n",
              "    <tr>\n",
              "      <th>2</th>\n",
              "      <td>LG Convertible 5-in-1 Cooling 1.5 Ton 3 Star S...</td>\n",
              "      <td>₹33,990</td>\n",
              "      <td>4.3</td>\n",
              "    </tr>\n",
              "    <tr>\n",
              "      <th>3</th>\n",
              "      <td>Whirlpool 1.5 Ton 3 Star Split Inverter AC  - ...</td>\n",
              "      <td>₹31,490</td>\n",
              "      <td>4.2</td>\n",
              "    </tr>\n",
              "    <tr>\n",
              "      <th>4</th>\n",
              "      <td>SAMSUNG 1.5 Ton 5 Star Split Inverter AC  - White</td>\n",
              "      <td>₹34,990</td>\n",
              "      <td>4.2</td>\n",
              "    </tr>\n",
              "    <tr>\n",
              "      <th>...</th>\n",
              "      <td>...</td>\n",
              "      <td>...</td>\n",
              "      <td>...</td>\n",
              "    </tr>\n",
              "    <tr>\n",
              "      <th>211</th>\n",
              "      <td>Haier 1.5 Ton 3 Star Split AC  - White</td>\n",
              "      <td>₹29,890</td>\n",
              "      <td>4.4</td>\n",
              "    </tr>\n",
              "    <tr>\n",
              "      <th>212</th>\n",
              "      <td>Midea 1.5 Ton 3 Star Split AC  - White, Grey</td>\n",
              "      <td>₹26,990</td>\n",
              "      <td>4.3</td>\n",
              "    </tr>\n",
              "    <tr>\n",
              "      <th>213</th>\n",
              "      <td>Panasonic 1.5 Ton 3 Star Split Inverter Smart ...</td>\n",
              "      <td>₹34,990</td>\n",
              "      <td>4.3</td>\n",
              "    </tr>\n",
              "    <tr>\n",
              "      <th>214</th>\n",
              "      <td>CARRIER 1.5 Ton 3 Star Split AC  - White</td>\n",
              "      <td>₹33,000</td>\n",
              "      <td>4.3</td>\n",
              "    </tr>\n",
              "    <tr>\n",
              "      <th>215</th>\n",
              "      <td>LG Convertible 5-in-1 Cooling 1.5 Ton 5 Star S...</td>\n",
              "      <td>₹41,490</td>\n",
              "      <td>4.3</td>\n",
              "    </tr>\n",
              "  </tbody>\n",
              "</table>\n",
              "<p>216 rows × 3 columns</p>\n",
              "</div>"
            ],
            "text/plain": [
              "                                                 brand    price ratings\n",
              "0    SAMSUNG 1.5 Ton 3 Star Split Inverter AC  - Wh...  ₹28,990     4.2\n",
              "1    SAMSUNG 1.5 Ton 3 Star Split Inverter AC  - Wh...  ₹28,990     4.2\n",
              "2    LG Convertible 5-in-1 Cooling 1.5 Ton 3 Star S...  ₹33,990     4.3\n",
              "3    Whirlpool 1.5 Ton 3 Star Split Inverter AC  - ...  ₹31,490     4.2\n",
              "4    SAMSUNG 1.5 Ton 5 Star Split Inverter AC  - White  ₹34,990     4.2\n",
              "..                                                 ...      ...     ...\n",
              "211             Haier 1.5 Ton 3 Star Split AC  - White  ₹29,890     4.4\n",
              "212       Midea 1.5 Ton 3 Star Split AC  - White, Grey  ₹26,990     4.3\n",
              "213  Panasonic 1.5 Ton 3 Star Split Inverter Smart ...  ₹34,990     4.3\n",
              "214           CARRIER 1.5 Ton 3 Star Split AC  - White  ₹33,000     4.3\n",
              "215  LG Convertible 5-in-1 Cooling 1.5 Ton 5 Star S...  ₹41,490     4.3\n",
              "\n",
              "[216 rows x 3 columns]"
            ]
          },
          "metadata": {
            "tags": []
          },
          "execution_count": 34
        }
      ]
    },
    {
      "cell_type": "code",
      "metadata": {
        "id": "6kjwlkg-UMgU"
      },
      "source": [
        "data.to_csv('flipkart-web-scrapped.csv',index=False)"
      ],
      "execution_count": null,
      "outputs": []
    }
  ]
}